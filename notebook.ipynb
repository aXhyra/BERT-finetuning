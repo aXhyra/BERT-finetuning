{
 "nbformat": 4,
 "nbformat_minor": 0,
 "metadata": {
  "colab": {
   "name": "Fine_Tuning.ipynb",
   "provenance": [],
   "collapsed_sections": []
  },
  "kernelspec": {
   "name": "python3",
   "display_name": "Python 3"
  },
  "language_info": {
   "name": "python"
  },
  "accelerator": "GPU"
 },
 "cells": [
  {
   "cell_type": "code",
   "source": [
    "!pip install -r requirements.txt"
   ],
   "metadata": {
    "id": "1SaYsilNuF-g",
    "pycharm": {
     "is_executing": true
    }
   },
   "execution_count": null,
   "outputs": []
  },
  {
   "cell_type": "code",
   "source": [
    "from transformers import TrainingArguments\n",
    "import os\n",
    "\n",
    "from helper import LoginHelper, Dataset, Engine"
   ],
   "metadata": {
    "id": "5WWBp9BD-CM0"
   },
   "execution_count": 5,
   "outputs": []
  },
  {
   "cell_type": "markdown",
   "source": [
    "## HuggingFace and wandb login"
   ],
   "metadata": {
    "id": "F2VXAimBHHGJ"
   }
  },
  {
   "cell_type": "code",
   "source": [
    "os.environ[\"hf_token\"] = \"YOUR_HUGGINGFACE_TOKEN\"\n",
    "os.environ[\"wandb_token\"] = \"YOUR_WANDB_TOKEN\"\n",
    "LoginHelper(wandb_project_name=\"BERT-finetuning\", wandb_save_models=True, tokenizer_parallelism=False)"
   ],
   "metadata": {
    "id": "mTBAbqanGQGb",
    "pycharm": {
     "is_executing": true
    }
   },
   "execution_count": null,
   "outputs": []
  },
  {
   "cell_type": "code",
   "source": [
    "task = \"sentiment\"\n",
    "\n",
    "import os\n",
    "\n",
    "batch_size = 16\n",
    "metric_name = \"f1\"\n",
    "\n",
    "# for task in tasks:\n",
    "\n",
    "name = f\"{task}\"\n",
    "\n",
    "args = TrainingArguments(\n",
    "  name,\n",
    "  evaluation_strategy = \"epoch\",\n",
    "  save_strategy = \"no\",\n",
    "  learning_rate=2e-5,\n",
    "  per_device_train_batch_size=batch_size,\n",
    "  per_device_eval_batch_size=batch_size,\n",
    "  num_train_epochs=4,\n",
    "  weight_decay=0.01,\n",
    "  load_best_model_at_end=False,\n",
    "  push_to_hub = False,\n",
    "  metric_for_best_model=metric_name,\n",
    "  report_to=\"wandb\",\n",
    "  save_total_limit=1,\n",
    "  run_name=name\n",
    ")\n",
    "\n",
    "dataset = Dataset(task, \"distilbert-base-uncased\")\n",
    "engine = Engine(dataset, args)\n",
    "\n",
    "engine.hyperparameter_search(10)\n",
    "\n",
    "name = f\"{task}_trained\"\n",
    "print(f\"\\n\\n [+] Training model: {name}\")\n",
    "engine.train(4, seed=0, opt_name=name)\n",
    "# os.system(f\"rm -rf {name}\")\n"
   ],
   "metadata": {
    "id": "DG4n55tlhiXc",
    "pycharm": {
     "is_executing": true
    }
   },
   "execution_count": null,
   "outputs": []
  },
  {
   "cell_type": "code",
   "source": [
    "engine.predict(\"I love this movie\")"
   ],
   "metadata": {
    "id": "eDj-lf7PdzqX",
    "colab": {
     "base_uri": "https://localhost:8080/",
     "height": 37
    },
    "outputId": "5993d161-87be-4691-bc8c-00f4b44c5630"
   },
   "execution_count": null,
   "outputs": [
    {
     "output_type": "execute_result",
     "data": {
      "application/vnd.google.colaboratory.intrinsic+json": {
       "type": "string"
      },
      "text/plain": [
       "'positive'"
      ]
     },
     "metadata": {},
     "execution_count": 142
    }
   ]
  }
 ]
}